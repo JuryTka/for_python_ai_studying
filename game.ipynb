{
 "cells": [
  {
   "cell_type": "markdown",
   "id": "c865ac3c",
   "metadata": {},
   "source": [
    "# Программы для загадывания и отгадывания чисел"
   ]
  },
  {
   "cell_type": "markdown",
   "id": "cfec4a04",
   "metadata": {},
   "source": [
    "### Импорт функций"
   ]
  },
  {
   "cell_type": "code",
   "execution_count": 4,
   "id": "c8d6df61",
   "metadata": {},
   "outputs": [],
   "source": [
    "from comp_guess_number import random_predict\n",
    "from comp_guess_number import random_predict_modified\n",
    "from comp_guess_number import score_game\n",
    "from guess_number import guess_number"
   ]
  },
  {
   "cell_type": "markdown",
   "id": "652b386b",
   "metadata": {},
   "source": [
    "### Сравниваем в случайных условиях, 3 попытки"
   ]
  },
  {
   "cell_type": "code",
   "execution_count": 14,
   "id": "4f74abbe",
   "metadata": {},
   "outputs": [
    {
     "name": "stdout",
     "output_type": "stream",
     "text": [
      "Попытка 1:\n",
      "\n",
      "  Изначальный алгоритм:\n",
      "Ваш алгоритм угадывает число в среднем за: 99 попыток\n",
      "  Модифицированный алгоритм:\n",
      "Ваш алгоритм угадывает число в среднем за: 8 попыток\n",
      "\n",
      "Попытка 2:\n",
      "\n",
      "  Изначальный алгоритм:\n",
      "Ваш алгоритм угадывает число в среднем за: 102 попыток\n",
      "  Модифицированный алгоритм:\n",
      "Ваш алгоритм угадывает число в среднем за: 8 попыток\n",
      "\n",
      "Попытка 3:\n",
      "\n",
      "  Изначальный алгоритм:\n",
      "Ваш алгоритм угадывает число в среднем за: 101 попыток\n",
      "  Модифицированный алгоритм:\n",
      "Ваш алгоритм угадывает число в среднем за: 8 попыток\n",
      "\n"
     ]
    }
   ],
   "source": [
    "for i in range(3):\n",
    "    print(f\"Попытка {i+1}:\\n\")\n",
    "    print(\"  Изначальный алгоритм:\")\n",
    "    score_game(random_predict, True)\n",
    "    print(\"  Модифицированный алгоритм:\")\n",
    "    score_game(random_predict_modified, True)\n",
    "    print(\"\")"
   ]
  },
  {
   "cell_type": "markdown",
   "id": "c1d59321",
   "metadata": {},
   "source": [
    "### Сравнение с фиксированной случайностью"
   ]
  },
  {
   "cell_type": "code",
   "execution_count": 16,
   "id": "0c358f10",
   "metadata": {},
   "outputs": [
    {
     "name": "stdout",
     "output_type": "stream",
     "text": [
      "Ваш алгоритм угадывает число в среднем за: 101 попыток\n",
      "Ваш алгоритм угадывает число в среднем за: 8 попыток\n"
     ]
    }
   ],
   "source": [
    "\n",
    "score_game(random_predict)\n",
    "score_game(random_predict_modified)"
   ]
  },
  {
   "cell_type": "markdown",
   "id": "139a00c0",
   "metadata": {},
   "source": [
    "### Попытка самостоятельно угадать число"
   ]
  },
  {
   "cell_type": "code",
   "execution_count": null,
   "id": "04761ea4",
   "metadata": {},
   "outputs": [
    {
     "name": "stdout",
     "output_type": "stream",
     "text": [
      "Число должно быть меньше!\n",
      "\n",
      "Число должно быть меньше!\n",
      "\n",
      "Число должно быть больше!\n",
      "\n",
      "Число должно быть меньше!\n",
      "\n",
      "Число должно быть меньше!\n",
      "\n",
      "Число должно быть больше!\n",
      "\n",
      "Вы угадали число! Это число = 14, за 7 попыток\n",
      "\n"
     ]
    }
   ],
   "source": [
    "guess_number()\n",
    "# Ввод для числа 14: 50 25 12 18 15 13 14"
   ]
  }
 ],
 "metadata": {
  "kernelspec": {
   "display_name": "Python 3",
   "language": "python",
   "name": "python3"
  },
  "language_info": {
   "codemirror_mode": {
    "name": "ipython",
    "version": 3
   },
   "file_extension": ".py",
   "mimetype": "text/x-python",
   "name": "python",
   "nbconvert_exporter": "python",
   "pygments_lexer": "ipython3",
   "version": "3.13.9"
  }
 },
 "nbformat": 4,
 "nbformat_minor": 5
}
