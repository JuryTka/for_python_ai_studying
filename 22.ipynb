{
 "cells": [
  {
   "cell_type": "code",
   "execution_count": 1,
   "id": "c8d6df61",
   "metadata": {},
   "outputs": [],
   "source": [
    "import comp_guess_number"
   ]
  },
  {
   "cell_type": "code",
   "execution_count": 2,
   "id": "4f74abbe",
   "metadata": {},
   "outputs": [
    {
     "name": "stdout",
     "output_type": "stream",
     "text": [
      "Ваш алгоритм угадывает число в среднем за: 101 попыток\n"
     ]
    }
   ],
   "source": [
    "comp_guess_number.score_game(comp_guess_number.random_predict)"
   ]
  }
 ],
 "metadata": {
  "kernelspec": {
   "display_name": "Python 3",
   "language": "python",
   "name": "python3"
  },
  "language_info": {
   "codemirror_mode": {
    "name": "ipython",
    "version": 3
   },
   "file_extension": ".py",
   "mimetype": "text/x-python",
   "name": "python",
   "nbconvert_exporter": "python",
   "pygments_lexer": "ipython3",
   "version": "3.13.9"
  }
 },
 "nbformat": 4,
 "nbformat_minor": 5
}
